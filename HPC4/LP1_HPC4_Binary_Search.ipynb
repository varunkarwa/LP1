{
  "nbformat": 4,
  "nbformat_minor": 0,
  "metadata": {
    "colab": {
      "name": "LP1 HPC4 Binary Search.ipynb",
      "provenance": []
    },
    "kernelspec": {
      "name": "python3",
      "display_name": "Python 3"
    },
    "language_info": {
      "name": "python"
    }
  },
  "cells": [
    {
      "cell_type": "code",
      "metadata": {
        "id": "aBbdNQ0aQV1D"
      },
      "source": [
        "code = \"\"\"\n",
        "#include<mpi.h>\n",
        "#include<stdio.h>\n",
        "\n",
        "#define n 12\n",
        "\n",
        "#define key 55\n",
        "\n",
        "int a[] = {1,2,3,4,7,9,13,24,55,56,67,88};\n",
        "\n",
        "int a2[20];\n",
        "\n",
        "int binarySearch(int *array, int start, int end, int value) {\n",
        "    int mid;\n",
        "    \n",
        "    while(start <= end) {\n",
        "        mid = (start + end) / 2;\n",
        "        if(array[mid] == value) \n",
        "            return mid;\n",
        "        else if(array[mid] > value)\n",
        "            end = mid - 1;\n",
        "        else\n",
        "            start = mid + 1;\n",
        "    }\n",
        "    return -1;\n",
        "}\n",
        "\n",
        "int main(int argc, char* argv[]) {\n",
        "    int pid, np, elements_per_process, n_elements_received;\n",
        "    \n",
        "    MPI_Status status;\n",
        "    \n",
        "    MPI_Init(&argc, &argv);\n",
        "    \n",
        "    MPI_Comm_rank(MPI_COMM_WORLD, &pid);\n",
        "    MPI_Comm_size(MPI_COMM_WORLD, &np);\n",
        "    \n",
        "    if(pid == 0) {\n",
        "        int index, i;\n",
        "        \n",
        "        if(np > 1) {\n",
        "            for(i=1; i<np-1; i++) {\n",
        "                \n",
        "                index = i * elements_per_process;\n",
        "                //element count\n",
        "                MPI_Send(&elements_per_process, 1, MPI_INT, i, 0, MPI_COMM_WORLD);\n",
        "\n",
        "                MPI_Send(&a[index], elements_per_process, MPI_INT, i, 0, MPI_COMM_WORLD);\n",
        "            \n",
        "            }\n",
        "            \n",
        "            index = i* elements_per_process;\n",
        "            \n",
        "            int elements_left = n - index;\n",
        "            \n",
        "            MPI_Send(&elements_left, 1, MPI_INT, i, 0, MPI_COMM_WORLD);\n",
        "            MPI_Send(&a[index], elements_left, MPI_INT, i, 0, MPI_COMM_WORLD);\n",
        "        }\n",
        "        \n",
        "        int position = binarySearch(a, 0, elements_per_process-1, key);\n",
        "        \n",
        "        if(position != -1)\n",
        "          printf(\"Found at: %d\", position);\n",
        "        \n",
        "        int temp;\n",
        "        \n",
        "        for(i=1; i<np; i++) {\n",
        "            MPI_Recv(&temp, 1, MPI_INT, MPI_ANY_SOURCE, 0, MPI_COMM_WORLD, &status);\n",
        "            int sender = status.MPI_SOURCE;\n",
        "            \n",
        "            if(temp != -1)\n",
        "                printf(\"Found at: %d by %d\", (sender*elements_per_process)+temp, sender);\n",
        "        }\n",
        "    }\n",
        "    \n",
        "    else {\n",
        "        MPI_Recv(&n_elements_received, 1, MPI_INT, 0, 0, MPI_COMM_WORLD, &status);\n",
        "        \n",
        "        MPI_Recv(&a2, n_elements_received, MPI_INT, 0, 0, MPI_COMM_WORLD, &status);\n",
        "    \n",
        "        int position = binarySearch(a2, 0, n_elements_received-1, key);\n",
        "        \n",
        "        MPI_Send(&position, 1, MPI_INT, 0, 0, MPI_COMM_WORLD);\n",
        "    }\n",
        "    \n",
        "    MPI_Finalize();\n",
        "    \n",
        "    return 0;\n",
        "}\n",
        "\"\"\""
      ],
      "execution_count": 1,
      "outputs": []
    },
    {
      "cell_type": "code",
      "metadata": {
        "id": "7Lsm5ywAQe65"
      },
      "source": [
        "file_ = open(\"BinarySearch.c\", \"w\");\n",
        "file_.write(code);\n",
        "file_.close();"
      ],
      "execution_count": 2,
      "outputs": []
    },
    {
      "cell_type": "code",
      "metadata": {
        "id": "vD9cWOfqQkVK"
      },
      "source": [
        "!mpiCC BinarySearch.c"
      ],
      "execution_count": 3,
      "outputs": []
    },
    {
      "cell_type": "code",
      "metadata": {
        "colab": {
          "base_uri": "https://localhost:8080/"
        },
        "id": "qZ_unq0AQo1m",
        "outputId": "528d2c5a-e416-458d-995f-ed1ab9270700"
      },
      "source": [
        "!mpirun --allow-run-as-root -np 4 ./a.out"
      ],
      "execution_count": 4,
      "outputs": [
        {
          "output_type": "stream",
          "name": "stdout",
          "text": [
            "Found at: 8 by 3"
          ]
        }
      ]
    }
  ]
}