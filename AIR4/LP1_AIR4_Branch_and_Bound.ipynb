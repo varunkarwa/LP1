{
  "nbformat": 4,
  "nbformat_minor": 0,
  "metadata": {
    "colab": {
      "name": "LP1 AIR4 Branch and Bound.ipynb",
      "provenance": []
    },
    "kernelspec": {
      "name": "python3",
      "display_name": "Python 3"
    },
    "language_info": {
      "name": "python"
    }
  },
  "cells": [
    {
      "cell_type": "code",
      "metadata": {
        "colab": {
          "base_uri": "https://localhost:8080/"
        },
        "id": "B5Vd58A_kEHt",
        "outputId": "57274467-4e70-4bd7-82f8-6b7c49b1f595"
      },
      "source": [
        "N = int(input('Enter the value of N : '))\n",
        "\n",
        "def printSolution(board): \n",
        "\tfor i in range(N): \n",
        "\t\tfor j in range(N): \n",
        "\t\t\tprint(board[i][j], end = \" \") \n",
        "\t\tprint() \n",
        "\n",
        "def isSafe(row, col, slashCode, backslashCode, \n",
        "\t\trowLookup, slashCodeLookup, backslashCodeLookup): \n",
        "\tif (slashCodeLookup[slashCode[row][col]] or\n",
        "\t\tbackslashCodeLookup[backslashCode[row][col]] or\n",
        "\t\trowLookup[row]): \n",
        "\t\treturn False\n",
        "\treturn True\n",
        "\n",
        "def solveNQueensUtil(board, col, slashCode, backslashCode, \n",
        "\t\t\t\t\trowLookup, slashCodeLookup, \n",
        "\t\t\t\t\tbackslashCodeLookup): \n",
        "\t\t\t\t\t\t\n",
        "\tif(col >= N): \n",
        "\t\treturn True\n",
        "\tfor i in range(N): \n",
        "\t\tif(isSafe(i, col, slashCode, backslashCode, \n",
        "\t\t\t\trowLookup, slashCodeLookup, \n",
        "\t\t\t\tbackslashCodeLookup)): \n",
        "\t\t\t\t\t\n",
        "\t\t\tboard[i][col] = 1\n",
        "\t\t\trowLookup[i] = True\n",
        "\t\t\tslashCodeLookup[slashCode[i][col]] = True\n",
        "\t\t\tbackslashCodeLookup[backslashCode[i][col]] = True\n",
        "\t\t\t\n",
        "\t\t\tif(solveNQueensUtil(board, col + 1, slashCode, backslashCode, \n",
        "\t\t\t\t\t\t\t\trowLookup, slashCodeLookup, \n",
        "\t\t\t\t\t\t\t\tbackslashCodeLookup)): \n",
        "\t\t\t\treturn True\n",
        "\n",
        "\t\t\tboard[i][col] = 0\n",
        "\t\t\trowLookup[i] = False\n",
        "\t\t\tslashCodeLookup[slashCode[i][col]] = False\n",
        "\t\t\tbackslashCodeLookup[backslashCode[i][col]] = False\n",
        "\t\t\t\n",
        "\treturn False\n",
        "\n",
        "def solveNQueens(): \n",
        "\tboard = [[0 for i in range(N)] \n",
        "\t\t\t\tfor j in range(N)] \n",
        "\t\n",
        "\t# helper matrices \n",
        "\tslashCode = [[0 for i in range(N)] \n",
        "\t\t\t\t\tfor j in range(N)] \n",
        "\tbackslashCode = [[0 for i in range(N)] \n",
        "\t\t\t\t\t\tfor j in range(N)] \n",
        "\t\n",
        "\t# arrays to tell us which rows are occupied \n",
        "\trowLookup = [False] * N \n",
        "\tx = 2 * N - 1\n",
        "\tslashCodeLookup = [False] * x \n",
        "\tbackslashCodeLookup = [False] * x \n",
        "\t\n",
        "\t# initialize helper matrices \n",
        "\tfor rr in range(N): \n",
        "\t\tfor cc in range(N): \n",
        "\t\t\tslashCode[rr][cc] = rr + cc \n",
        "\t\t\tbackslashCode[rr][cc] = rr - cc + (N - 1)\n",
        "\t\n",
        "\tif(solveNQueensUtil(board, 0, slashCode, backslashCode, \n",
        "\t\t\t\t\t\trowLookup, slashCodeLookup, \n",
        "\t\t\t\t\t\tbackslashCodeLookup) == False): \n",
        "\t\tprint(\"Solution does not exist\") \n",
        "\t\treturn False\n",
        "\t\t\n",
        "\t# solution found \n",
        "\tprintSolution(board) \n",
        "\treturn True\n",
        "\n",
        "solveNQueens() "
      ],
      "execution_count": 1,
      "outputs": [
        {
          "output_type": "stream",
          "name": "stdout",
          "text": [
            "Enter the value of N : 8\n",
            "1 0 0 0 0 0 0 0 \n",
            "0 0 0 0 0 0 1 0 \n",
            "0 0 0 0 1 0 0 0 \n",
            "0 0 0 0 0 0 0 1 \n",
            "0 1 0 0 0 0 0 0 \n",
            "0 0 0 1 0 0 0 0 \n",
            "0 0 0 0 0 1 0 0 \n",
            "0 0 1 0 0 0 0 0 \n"
          ]
        },
        {
          "output_type": "execute_result",
          "data": {
            "text/plain": [
              "True"
            ]
          },
          "metadata": {},
          "execution_count": 1
        }
      ]
    }
  ]
}