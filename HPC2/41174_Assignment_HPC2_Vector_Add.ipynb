{
 "cells": [
  {
   "cell_type": "code",
   "execution_count": 0,
   "metadata": {
    "colab": {},
    "colab_type": "code",
    "collapsed": true,
    "id": "FSqRKOFuJuaZ"
   },
   "outputs": [],
   "source": [
    "code = \"\"\"\n",
    "#include<iostream>\n",
    "#include<cstdlib>\n",
    "using namespace std;\n",
    "\n",
    "__global__ void vectorAdd(int *a, int *b, int *result, int n) {\n",
    "    int tid = blockIdx.x*blockDim.x + threadIdx.x;\n",
    "    if(tid <= n) {\n",
    "        result[tid] = a[tid] + b[tid];\n",
    "    }\n",
    "}\n",
    "\n",
    "void print_array(int *a, int N) {\n",
    "    for(int i=0; i<N; i++) {\n",
    "        cout<<\"  \"<<a[i];\n",
    "    }\n",
    "    cout<<endl;\n",
    "}\n",
    "\n",
    "void init_array(int *a, int N) {\n",
    "    for(int i=0; i<N; i++) {\n",
    "        a[i] = rand()%10 + 1;\n",
    "    }\n",
    "}\n",
    "\n",
    "int main() {\n",
    "    int *a, *b, *c;\n",
    "    int *a_dev, *b_dev, *c_dev;\n",
    "    int n = 8;           //24\n",
    "    \n",
    "    a = (int*)malloc(n * sizeof(n));\n",
    "    b = (int*)malloc(n * sizeof(n));\n",
    "    c = (int*)malloc(n * sizeof(n));\n",
    "\n",
    "    int size = n * sizeof(int);\n",
    "    \n",
    "    cudaMalloc(&a_dev, size);\n",
    "    cudaMalloc(&b_dev, size);\n",
    "    cudaMalloc(&c_dev, size);\n",
    "    \n",
    "    init_array(a, n);\n",
    "    init_array(b, n);\n",
    "    \n",
    "    print_array(a, n);\n",
    "    print_array(b, n);\n",
    "        \n",
    "    //cudaEvent_t start, end;\n",
    "    //cudaEventCreate(&start);\n",
    "    //cudaEventCreate(&end);\n",
    "    \n",
    "    cudaMemcpy(a_dev, a, size, cudaMemcpyHostToDevice);\n",
    "    cudaMemcpy(b_dev, b, size, cudaMemcpyHostToDevice);\n",
    "    \n",
    "    //int threads = 1024;\n",
    "    //int blocks = (n+threads-1)/threads;\n",
    "    \n",
    "    //cudaEventRecord(start);\n",
    "    \n",
    "    //vectorAdd<<<blocks,threads>>>(a_dev, b_dev, c_dev, n);\n",
    "    vectorAdd<<<1,1024>>>(a_dev, b_dev, c_dev, n);\n",
    "    \n",
    "    //cudaEventRecord(end);\n",
    "    \n",
    "    //cudaDeviceSynchronize();\n",
    "       \n",
    "    //float time = 0.0;\n",
    "    //cudaEventElapsedTime(&time, start, end);\n",
    "    \n",
    "    cudaMemcpy(c, c_dev, size, cudaMemcpyDeviceToHost);\n",
    "    \n",
    "    cout<<\"Results : \"<<endl;\n",
    "    print_array(c, n);\n",
    " \n",
    "    //cout<<\"Time elapsed : \"<<time<<endl;\n",
    "        \n",
    "    cudaFree(a_dev);\n",
    "    cudaFree(b_dev);\n",
    "    cudaFree(c_dev);\n",
    "        \n",
    "    return 0;\n",
    "}\n",
    "\"\"\""
   ]
  },
  {
   "cell_type": "code",
   "execution_count": 0,
   "metadata": {
    "colab": {},
    "colab_type": "code",
    "collapsed": true,
    "id": "-DiT5fKyNpR0"
   },
   "outputs": [],
   "source": [
    "text_file = open(\"assign2.cu\", \"w\")\n",
    "text_file.write(code)\n",
    "text_file.close()"
   ]
  },
  {
   "cell_type": "code",
   "execution_count": 0,
   "metadata": {
    "colab": {},
    "colab_type": "code",
    "collapsed": true,
    "id": "F8DCYJswOPwB"
   },
   "outputs": [],
   "source": [
    "!nvcc assign2.cu"
   ]
  },
  {
   "cell_type": "code",
   "execution_count": 38,
   "metadata": {
    "colab": {
     "base_uri": "https://localhost:8080/",
     "height": 85
    },
    "colab_type": "code",
    "id": "bzdUYoZ-Oejc",
    "outputId": "05fa2dfa-f2a3-4711-8360-daac6c3b3094"
   },
   "outputs": [
    {
     "name": "stdout",
     "output_type": "stream",
     "text": [
      "  4  7  8  6  4  6  7  3\n",
      "  10  2  3  8  1  10  4  7\n",
      "Results : \n",
      "  14  9  11  14  5  16  11  10\n"
     ]
    }
   ],
   "source": [
    "!./a.out"
   ]
  },
  {
   "cell_type": "code",
   "execution_count": 0,
   "metadata": {
    "colab": {},
    "colab_type": "code",
    "collapsed": true,
    "id": "oLibC81KLJPy"
   },
   "outputs": [],
   "source": []
  }
 ],
 "metadata": {
  "accelerator": "GPU",
  "colab": {
   "collapsed_sections": [],
   "name": "VectorAdd.ipynb",
   "provenance": []
  },
  "kernelspec": {
   "display_name": "Python 3",
   "language": "python",
   "name": "python3"
  },
  "language_info": {
   "codemirror_mode": {
    "name": "ipython",
    "version": 3
   },
   "file_extension": ".py",
   "mimetype": "text/x-python",
   "name": "python",
   "nbconvert_exporter": "python",
   "pygments_lexer": "ipython3",
   "version": "3.6.3"
  }
 },
 "nbformat": 4,
 "nbformat_minor": 1
}
