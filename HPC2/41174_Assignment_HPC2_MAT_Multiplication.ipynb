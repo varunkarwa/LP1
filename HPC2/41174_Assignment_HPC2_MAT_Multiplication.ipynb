{
 "cells": [
  {
   "cell_type": "code",
   "execution_count": 0,
   "metadata": {
    "colab": {},
    "colab_type": "code",
    "collapsed": true,
    "id": "L2hhun_-XMlt"
   },
   "outputs": [],
   "source": [
    "code = \"\"\"\n",
    "#include<iostream>\n",
    "\n",
    "using namespace std;\n",
    "\n",
    "__global__\n",
    "void matrixMultiplication(int *a, int *b, int *c, int m, int n, int k)\n",
    "{\n",
    "    int row = blockIdx.y*blockDim.y + threadIdx.y;\n",
    "    int col = blockIdx.x*blockDim.x + threadIdx.x;\n",
    "    int sum=0;\n",
    "   \n",
    "    if(col<k && row<m) {\n",
    "      for(int j=0;j<n;j++)\n",
    "      {\n",
    "          sum += a[row*n+j] * b[j*k+col];\n",
    "      }\n",
    "      c[k*row+col]=sum;\n",
    "    }\n",
    "    \n",
    "}\n",
    "\n",
    "void init_result(int *a, int m, int k) {\n",
    "    for(int i=0; i<m; i++) {\n",
    "      for(int j=0; j<k; j++) {\n",
    "        a[i*k + j] = 0;\n",
    "      }\n",
    "    }\n",
    "}\n",
    "\n",
    "void init_matrix(int *a, int n, int m) {\n",
    "    for(int i=0; i<n; i++) {\n",
    "      for(int j=0; j<m; j++) {\n",
    "        a[i*m + j] = rand()%10 + 1;\n",
    "      }\n",
    "    }\n",
    "}\n",
    "\n",
    "void print_matrix(int *a, int n, int m) {\n",
    "    for(int i=0; i<n; i++) {\n",
    "      for(int j=0; j<m; j++) {\n",
    "        cout<<\"  \"<<a[i*m + j];\n",
    "      }\n",
    "      cout<<endl;\n",
    "    }\n",
    "    cout<<endl;\n",
    "}\n",
    "\n",
    "int main()\n",
    "{\n",
    "    \n",
    "    int *a,*b,*c;\n",
    "    int *a_dev,*b_dev,*c_dev;\n",
    "    int m=5, n=4, k=3;\n",
    "    \n",
    "    a = new int[m*n];\n",
    "    b = new int[n*k];\n",
    "    c = new int[m*k];\n",
    "    \n",
    "    init_matrix(a, m, n);\n",
    "    init_matrix(b, n ,k);\n",
    "    init_result(c, m, k);\n",
    "    \n",
    "    cout<<\"Initial matrix : \"<<endl;\n",
    "    \n",
    "    print_matrix(a, m, n);\n",
    "    print_matrix(b, n, k);\n",
    "    print_matrix(c, m, k);\n",
    "    \n",
    "    cudaMalloc(&a_dev, sizeof(int)*m*n);\n",
    "    cudaMalloc(&b_dev, sizeof(int)*n*k);\n",
    "    cudaMalloc(&c_dev, sizeof(int)*m*k);\n",
    "       \n",
    "    cudaMemcpy(a_dev, a, sizeof(int)*m*n, cudaMemcpyHostToDevice);\n",
    "    cudaMemcpy(b_dev, b, sizeof(int)*n*k, cudaMemcpyHostToDevice);\n",
    "    \n",
    "    dim3 dimGrid(1,1);\n",
    "    dim3 dimBlock(16,16);\n",
    "    \n",
    "    matrixMultiplication<<<dimGrid, dimBlock>>>(a_dev,b_dev,c_dev, m, n, k);\n",
    "     \n",
    "    cudaMemcpy(c, c_dev, sizeof(int)*m*k, cudaMemcpyDeviceToHost);\n",
    "    \n",
    "    cout<<\"Result : \"<<endl;\n",
    "    print_matrix(c, m, k);\n",
    "    \n",
    "    cudaFree(a_dev);\n",
    "    cudaFree(b_dev);\n",
    "    cudaFree(c_dev);\n",
    "    \n",
    "    delete[] a;\n",
    "    delete[] b;\n",
    "    delete[] c;\n",
    "    \n",
    "    return 0;\n",
    "}\n",
    "\"\"\""
   ]
  },
  {
   "cell_type": "code",
   "execution_count": 0,
   "metadata": {
    "colab": {},
    "colab_type": "code",
    "collapsed": true,
    "id": "qV334GlZcr2t"
   },
   "outputs": [],
   "source": [
    "\n",
    "text_file = open(\"matMulti.cu\", \"w\")\n",
    "text_file.write(code)\n",
    "text_file.close()"
   ]
  },
  {
   "cell_type": "code",
   "execution_count": 0,
   "metadata": {
    "colab": {},
    "colab_type": "code",
    "collapsed": true,
    "id": "Xqdkx7e5c8cQ"
   },
   "outputs": [],
   "source": [
    "!nvcc matMulti.cu"
   ]
  },
  {
   "cell_type": "code",
   "execution_count": 4,
   "metadata": {
    "colab": {
     "base_uri": "https://localhost:8080/",
     "height": 442
    },
    "colab_type": "code",
    "id": "3xvyh3Hxc_Pb",
    "outputId": "65bbdaf7-efe5-4f54-c99e-1064411e8679"
   },
   "outputs": [
    {
     "name": "stdout",
     "output_type": "stream",
     "text": [
      "Initial matrix : \n",
      "  6  5  1  1\n",
      "  9  7  5  2\n",
      "  1  10  2  3\n",
      "  9  1  4  1\n",
      "  5  7  7  10\n",
      "\n",
      "  4  4  5\n",
      "  7  8  8\n",
      "  4  2  4\n",
      "  5  1  10\n",
      "\n",
      "  0  0  0\n",
      "  0  0  0\n",
      "  0  0  0\n",
      "  0  0  0\n",
      "  0  0  0\n",
      "\n",
      "Result : \n",
      "  68  67  84\n",
      "  115  104  141\n",
      "  97  91  123\n",
      "  64  53  79\n",
      "  147  100  209\n",
      "\n"
     ]
    }
   ],
   "source": [
    "!./a.out\n"
   ]
  },
  {
   "cell_type": "code",
   "execution_count": 0,
   "metadata": {
    "colab": {},
    "colab_type": "code",
    "collapsed": true,
    "id": "Lub71gQkeEs9"
   },
   "outputs": [],
   "source": []
  }
 ],
 "metadata": {
  "accelerator": "GPU",
  "colab": {
   "collapsed_sections": [],
   "name": "Mat_Mat.ipynb",
   "provenance": []
  },
  "kernelspec": {
   "display_name": "Python 3",
   "language": "python",
   "name": "python3"
  },
  "language_info": {
   "codemirror_mode": {
    "name": "ipython",
    "version": 3
   },
   "file_extension": ".py",
   "mimetype": "text/x-python",
   "name": "python",
   "nbconvert_exporter": "python",
   "pygments_lexer": "ipython3",
   "version": "3.6.3"
  }
 },
 "nbformat": 4,
 "nbformat_minor": 1
}
